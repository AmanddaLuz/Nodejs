{
 "cells": [
  {
   "cell_type": "code",
   "execution_count": 9,
   "id": "43a8d577",
   "metadata": {},
   "outputs": [
    {
     "name": "stdout",
     "output_type": "stream",
     "text": [
      "Digite a sua idade: 15\n"
     ]
    }
   ],
   "source": [
    "idade = int(input('Digite a sua idade: '))"
   ]
  },
  {
   "cell_type": "code",
   "execution_count": 5,
   "id": "c8cadc6b",
   "metadata": {},
   "outputs": [
    {
     "name": "stdout",
     "output_type": "stream",
     "text": [
      "25\n"
     ]
    }
   ],
   "source": [
    "print (idade)"
   ]
  },
  {
   "cell_type": "code",
   "execution_count": 6,
   "id": "759c39c8",
   "metadata": {},
   "outputs": [
    {
     "name": "stdout",
     "output_type": "stream",
     "text": [
      "<class 'int'>\n"
     ]
    }
   ],
   "source": [
    "print(type(idade))"
   ]
  },
  {
   "cell_type": "code",
   "execution_count": 10,
   "id": "aa899103",
   "metadata": {},
   "outputs": [
    {
     "name": "stdout",
     "output_type": "stream",
     "text": [
      "Você ainda não pode dirigir.\n"
     ]
    }
   ],
   "source": [
    "if idade >= 18:\n",
    "    print('Você já pode dirigir.')\n",
    "elif idade < 18:\n",
    "    print('Você ainda não pode dirigir.')"
   ]
  },
  {
   "cell_type": "code",
   "execution_count": 19,
   "id": "b37015e4",
   "metadata": {},
   "outputs": [
    {
     "name": "stdout",
     "output_type": "stream",
     "text": [
      "Quantos minutos você se exercita por dia? 10\n"
     ]
    }
   ],
   "source": [
    "exercicio = int(input('Quantos minutos você se exercita por dia? '))"
   ]
  },
  {
   "cell_type": "code",
   "execution_count": 20,
   "id": "5689e6a0",
   "metadata": {},
   "outputs": [
    {
     "name": "stdout",
     "output_type": "stream",
     "text": [
      "Você deveria se exercitar mais\n"
     ]
    }
   ],
   "source": [
    "if exercicio < 30:\n",
    "    print ('Você deveria se exercitar mais')\n",
    "elif exercicio >= 30 and exercicio <= 60:\n",
    "    print ('Você está no caminho certo')\n",
    "elif exercicio > 60 and exercicio <= 120:\n",
    "    print ('Você é um(a) atleta')\n",
    "else: \n",
    "    print ('Uau, você se exercita muito')"
   ]
  },
  {
   "cell_type": "code",
   "execution_count": null,
   "id": "efac3390",
   "metadata": {},
   "outputs": [],
   "source": []
  }
 ],
 "metadata": {
  "kernelspec": {
   "display_name": "Python 3",
   "language": "python",
   "name": "python3"
  },
  "language_info": {
   "codemirror_mode": {
    "name": "ipython",
    "version": 3
   },
   "file_extension": ".py",
   "mimetype": "text/x-python",
   "name": "python",
   "nbconvert_exporter": "python",
   "pygments_lexer": "ipython3",
   "version": "3.8.8"
  }
 },
 "nbformat": 4,
 "nbformat_minor": 5
}
