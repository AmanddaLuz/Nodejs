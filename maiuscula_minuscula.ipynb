{
 "cells": [
  {
   "cell_type": "code",
   "execution_count": 9,
   "id": "47524483",
   "metadata": {},
   "outputs": [],
   "source": [
    "rua = 'Rua do Catete, '\n",
    "numero = \"153, \"\n",
    "bairro = 'Catete, '\n",
    "cidade = 'Rio de Janeiro, '\n",
    "estado = \"RJ, \"\n",
    "cep = '22220-000'"
   ]
  },
  {
   "cell_type": "code",
   "execution_count": 2,
   "id": "3bd8fd61",
   "metadata": {},
   "outputs": [
    {
     "name": "stdout",
     "output_type": "stream",
     "text": [
      "Rua do Catete\n"
     ]
    }
   ],
   "source": [
    "print (rua)"
   ]
  },
  {
   "cell_type": "code",
   "execution_count": 10,
   "id": "dbf667c8",
   "metadata": {},
   "outputs": [],
   "source": [
    "endereco = rua + numero + bairro + cidade + estado + cep"
   ]
  },
  {
   "cell_type": "code",
   "execution_count": 11,
   "id": "6bb1f17c",
   "metadata": {},
   "outputs": [
    {
     "name": "stdout",
     "output_type": "stream",
     "text": [
      "Rua do Catete, 153, Catete, Rio de Janeiro, RJ, 22220-000\n"
     ]
    }
   ],
   "source": [
    "print (endereco)"
   ]
  },
  {
   "cell_type": "code",
   "execution_count": 12,
   "id": "12f3b1f8",
   "metadata": {},
   "outputs": [],
   "source": [
    "endereco_maiuscula = endereco.upper()"
   ]
  },
  {
   "cell_type": "code",
   "execution_count": 13,
   "id": "9cef48df",
   "metadata": {},
   "outputs": [
    {
     "name": "stdout",
     "output_type": "stream",
     "text": [
      "RUA DO CATETE, 153, CATETE, RIO DE JANEIRO, RJ, 22220-000\n"
     ]
    }
   ],
   "source": [
    "print (endereco_maiuscula)"
   ]
  },
  {
   "cell_type": "code",
   "execution_count": 14,
   "id": "ca9acf2a",
   "metadata": {},
   "outputs": [],
   "source": [
    "endereco_minuscula = endereco.lower()"
   ]
  },
  {
   "cell_type": "code",
   "execution_count": 15,
   "id": "e49b2183",
   "metadata": {},
   "outputs": [
    {
     "name": "stdout",
     "output_type": "stream",
     "text": [
      "rua do catete, 153, catete, rio de janeiro, rj, 22220-000\n"
     ]
    }
   ],
   "source": [
    "print(endereco_minuscula)"
   ]
  }
 ],
 "metadata": {
  "kernelspec": {
   "display_name": "Python 3",
   "language": "python",
   "name": "python3"
  },
  "language_info": {
   "codemirror_mode": {
    "name": "ipython",
    "version": 3
   },
   "file_extension": ".py",
   "mimetype": "text/x-python",
   "name": "python",
   "nbconvert_exporter": "python",
   "pygments_lexer": "ipython3",
   "version": "3.8.8"
  }
 },
 "nbformat": 4,
 "nbformat_minor": 5
}
