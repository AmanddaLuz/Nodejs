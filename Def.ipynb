{
 "cells": [
  {
   "cell_type": "code",
   "execution_count": 2,
   "id": "f446bbd6",
   "metadata": {},
   "outputs": [],
   "source": [
    "def soma(x, y):\n",
    "    print(x + y)"
   ]
  },
  {
   "cell_type": "code",
   "execution_count": 3,
   "id": "5bd508cb",
   "metadata": {},
   "outputs": [
    {
     "name": "stdout",
     "output_type": "stream",
     "text": [
      "15\n"
     ]
    }
   ],
   "source": [
    "soma (10, 5)"
   ]
  },
  {
   "cell_type": "code",
   "execution_count": 6,
   "id": "94c0564a",
   "metadata": {},
   "outputs": [],
   "source": [
    "def imc(peso,altura):\n",
    "    imc = peso/(altura**2)\n",
    "    if imc < 18.5:\n",
    "        print('Magreza')\n",
    "    elif imc >= 18.5 and imc <= 24.9:\n",
    "        print('Normal')\n",
    "    elif imc >= 25.0 and imc <= 29.9:\n",
    "        print('Sobrepeso')\n",
    "    elif imc >= 30.0 and imc <= 39.9:\n",
    "        print('Obesidade I')\n",
    "    else:\n",
    "        print('Obesidade II')\n",
    "    return"
   ]
  },
  {
   "cell_type": "code",
   "execution_count": 8,
   "id": "1e38fbee",
   "metadata": {},
   "outputs": [
    {
     "name": "stdout",
     "output_type": "stream",
     "text": [
      "Normal\n"
     ]
    }
   ],
   "source": [
    "imc(64, 1.67)"
   ]
  }
 ],
 "metadata": {
  "kernelspec": {
   "display_name": "Python 3",
   "language": "python",
   "name": "python3"
  },
  "language_info": {
   "codemirror_mode": {
    "name": "ipython",
    "version": 3
   },
   "file_extension": ".py",
   "mimetype": "text/x-python",
   "name": "python",
   "nbconvert_exporter": "python",
   "pygments_lexer": "ipython3",
   "version": "3.8.8"
  }
 },
 "nbformat": 4,
 "nbformat_minor": 5
}
