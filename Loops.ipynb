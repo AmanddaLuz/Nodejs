{
 "cells": [
  {
   "cell_type": "code",
   "execution_count": 3,
   "id": "0909cbcc",
   "metadata": {},
   "outputs": [
    {
     "name": "stdout",
     "output_type": "stream",
     "text": [
      "Você deve trabalhar hoje? não\n",
      "O dia está bonito? sim\n",
      "Você está com preguiça? sim\n"
     ]
    }
   ],
   "source": [
    "trabalho = input('Você deve trabalhar hoje? ')\n",
    "dia  = input('O dia está bonito? ')\n",
    "preguiça = input('Você está com preguiça? ')"
   ]
  },
  {
   "cell_type": "code",
   "execution_count": 4,
   "id": "752e088f",
   "metadata": {},
   "outputs": [
    {
     "name": "stdout",
     "output_type": "stream",
     "text": [
      "Aproveite o dia\n",
      "Aproveite para caminhar\n",
      "Aproveita e dorme mais\n"
     ]
    }
   ],
   "source": [
    "if trabalho == 'sim':\n",
    "    print('É uma pena')\n",
    "elif trabalho == 'não':\n",
    "    print('Aproveite o dia')\n",
    "    \n",
    "if dia == 'sim' and trabalho == 'não':\n",
    "    print ('Aproveite para caminhar')\n",
    "elif dia == 'não' and trabalho == 'não':\n",
    "    print ('Aproveite e assista um filme')\n",
    "    \n",
    "if preguiça == 'sim' and trabalho == 'não':\n",
    "    print('Aproveita e dorme mais')\n",
    "elif preguiça == 'não' and trabalho == 'não':\n",
    "    print('Que tal estudar Python? ')"
   ]
  }
 ],
 "metadata": {
  "kernelspec": {
   "display_name": "Python 3",
   "language": "python",
   "name": "python3"
  },
  "language_info": {
   "codemirror_mode": {
    "name": "ipython",
    "version": 3
   },
   "file_extension": ".py",
   "mimetype": "text/x-python",
   "name": "python",
   "nbconvert_exporter": "python",
   "pygments_lexer": "ipython3",
   "version": "3.8.8"
  }
 },
 "nbformat": 4,
 "nbformat_minor": 5
}
