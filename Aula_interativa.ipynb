{
 "cells": [
  {
   "cell_type": "code",
   "execution_count": null,
   "id": "3d48c386",
   "metadata": {},
   "outputs": [],
   "source": [
    "x = [3, 6, 9]\n",
    "x[1] = 99\n",
    "x.append(35)\n"
   ]
  },
  {
   "cell_type": "code",
   "execution_count": null,
   "id": "928d1928",
   "metadata": {},
   "outputs": [],
   "source": [
    "class animal:      #cabeçalho\n",
    "    pass           #corpo\n",
    "if_name_=='_main_':   #Quando desejamos saber se estamos executando diretamente ou importando\n",
    "    x = animal()\n",
    "    y = animal()\n",
    "    y2 = y\n",
    "    print (y==x)\n",
    "    print (y2==y)    "
   ]
  },
  {
   "cell_type": "code",
   "execution_count": 1,
   "id": "c2b77dfc",
   "metadata": {},
   "outputs": [],
   "source": [
    "class pessoa:\n",
    "    pass"
   ]
  },
  {
   "cell_type": "code",
   "execution_count": 2,
   "id": "46826a1b",
   "metadata": {},
   "outputs": [
    {
     "name": "stdout",
     "output_type": "stream",
     "text": [
      "<class 'type'>\n"
     ]
    }
   ],
   "source": [
    "print(type(pessoa))"
   ]
  },
  {
   "cell_type": "code",
   "execution_count": 8,
   "id": "66a65f75",
   "metadata": {},
   "outputs": [],
   "source": [
    "class animal:\n",
    "    pass\n",
    "\n",
    "x = animal()\n",
    "y = animal()\n",
    "\n",
    "x.name = 'Gato'\n",
    "x.born_year = '2020'\n",
    "x.pelo = 'branco'\n",
    "\n",
    "y.name = 'Cão'\n",
    "y.born_year = '2021'\n",
    "y.pelo = 'preto'"
   ]
  },
  {
   "cell_type": "code",
   "execution_count": 4,
   "id": "44e8fca7",
   "metadata": {},
   "outputs": [
    {
     "name": "stdout",
     "output_type": "stream",
     "text": [
      "Cão\n"
     ]
    }
   ],
   "source": [
    "print(x.name)"
   ]
  },
  {
   "cell_type": "code",
   "execution_count": 6,
   "id": "62a7c62d",
   "metadata": {},
   "outputs": [
    {
     "data": {
      "text/plain": [
       "{'name': 'Cão', 'born_year': '2021', 'pelo': 'preto'}"
      ]
     },
     "execution_count": 6,
     "metadata": {},
     "output_type": "execute_result"
    }
   ],
   "source": [
    "x.__dict__"
   ]
  },
  {
   "cell_type": "code",
   "execution_count": 9,
   "id": "e8ab9c09",
   "metadata": {},
   "outputs": [
    {
     "data": {
      "text/plain": [
       "{'name': 'Cão', 'born_year': '2021', 'pelo': 'preto'}"
      ]
     },
     "execution_count": 9,
     "metadata": {},
     "output_type": "execute_result"
    }
   ],
   "source": [
    "y.__dict__"
   ]
  },
  {
   "cell_type": "code",
   "execution_count": 10,
   "id": "103bc05f",
   "metadata": {},
   "outputs": [
    {
     "data": {
      "text/plain": [
       "mappingproxy({'__repr__': <slot wrapper '__repr__' of 'list' objects>,\n",
       "              '__hash__': None,\n",
       "              '__getattribute__': <slot wrapper '__getattribute__' of 'list' objects>,\n",
       "              '__lt__': <slot wrapper '__lt__' of 'list' objects>,\n",
       "              '__le__': <slot wrapper '__le__' of 'list' objects>,\n",
       "              '__eq__': <slot wrapper '__eq__' of 'list' objects>,\n",
       "              '__ne__': <slot wrapper '__ne__' of 'list' objects>,\n",
       "              '__gt__': <slot wrapper '__gt__' of 'list' objects>,\n",
       "              '__ge__': <slot wrapper '__ge__' of 'list' objects>,\n",
       "              '__iter__': <slot wrapper '__iter__' of 'list' objects>,\n",
       "              '__init__': <slot wrapper '__init__' of 'list' objects>,\n",
       "              '__len__': <slot wrapper '__len__' of 'list' objects>,\n",
       "              '__getitem__': <method '__getitem__' of 'list' objects>,\n",
       "              '__setitem__': <slot wrapper '__setitem__' of 'list' objects>,\n",
       "              '__delitem__': <slot wrapper '__delitem__' of 'list' objects>,\n",
       "              '__add__': <slot wrapper '__add__' of 'list' objects>,\n",
       "              '__mul__': <slot wrapper '__mul__' of 'list' objects>,\n",
       "              '__rmul__': <slot wrapper '__rmul__' of 'list' objects>,\n",
       "              '__contains__': <slot wrapper '__contains__' of 'list' objects>,\n",
       "              '__iadd__': <slot wrapper '__iadd__' of 'list' objects>,\n",
       "              '__imul__': <slot wrapper '__imul__' of 'list' objects>,\n",
       "              '__new__': <function list.__new__(*args, **kwargs)>,\n",
       "              '__reversed__': <method '__reversed__' of 'list' objects>,\n",
       "              '__sizeof__': <method '__sizeof__' of 'list' objects>,\n",
       "              'clear': <method 'clear' of 'list' objects>,\n",
       "              'copy': <method 'copy' of 'list' objects>,\n",
       "              'append': <method 'append' of 'list' objects>,\n",
       "              'insert': <method 'insert' of 'list' objects>,\n",
       "              'extend': <method 'extend' of 'list' objects>,\n",
       "              'pop': <method 'pop' of 'list' objects>,\n",
       "              'remove': <method 'remove' of 'list' objects>,\n",
       "              'index': <method 'index' of 'list' objects>,\n",
       "              'count': <method 'count' of 'list' objects>,\n",
       "              'reverse': <method 'reverse' of 'list' objects>,\n",
       "              'sort': <method 'sort' of 'list' objects>,\n",
       "              '__doc__': 'Built-in mutable sequence.\\n\\nIf no argument is given, the constructor creates a new empty list.\\nThe argument must be an iterable if specified.'})"
      ]
     },
     "execution_count": 10,
     "metadata": {},
     "output_type": "execute_result"
    }
   ],
   "source": [
    "list.__dict__"
   ]
  },
  {
   "cell_type": "code",
   "execution_count": 11,
   "id": "3be2a4b4",
   "metadata": {},
   "outputs": [
    {
     "data": {
      "text/plain": [
       "mappingproxy({'__repr__': <slot wrapper '__repr__' of 'tuple' objects>,\n",
       "              '__hash__': <slot wrapper '__hash__' of 'tuple' objects>,\n",
       "              '__getattribute__': <slot wrapper '__getattribute__' of 'tuple' objects>,\n",
       "              '__lt__': <slot wrapper '__lt__' of 'tuple' objects>,\n",
       "              '__le__': <slot wrapper '__le__' of 'tuple' objects>,\n",
       "              '__eq__': <slot wrapper '__eq__' of 'tuple' objects>,\n",
       "              '__ne__': <slot wrapper '__ne__' of 'tuple' objects>,\n",
       "              '__gt__': <slot wrapper '__gt__' of 'tuple' objects>,\n",
       "              '__ge__': <slot wrapper '__ge__' of 'tuple' objects>,\n",
       "              '__iter__': <slot wrapper '__iter__' of 'tuple' objects>,\n",
       "              '__len__': <slot wrapper '__len__' of 'tuple' objects>,\n",
       "              '__getitem__': <slot wrapper '__getitem__' of 'tuple' objects>,\n",
       "              '__add__': <slot wrapper '__add__' of 'tuple' objects>,\n",
       "              '__mul__': <slot wrapper '__mul__' of 'tuple' objects>,\n",
       "              '__rmul__': <slot wrapper '__rmul__' of 'tuple' objects>,\n",
       "              '__contains__': <slot wrapper '__contains__' of 'tuple' objects>,\n",
       "              '__new__': <function tuple.__new__(*args, **kwargs)>,\n",
       "              '__getnewargs__': <method '__getnewargs__' of 'tuple' objects>,\n",
       "              'index': <method 'index' of 'tuple' objects>,\n",
       "              'count': <method 'count' of 'tuple' objects>,\n",
       "              '__doc__': \"Built-in immutable sequence.\\n\\nIf no argument is given, the constructor returns an empty tuple.\\nIf iterable is specified the tuple is initialized from iterable's items.\\n\\nIf the argument is a tuple, the return value is the same object.\"})"
      ]
     },
     "execution_count": 11,
     "metadata": {},
     "output_type": "execute_result"
    }
   ],
   "source": [
    "tuple.__dict__"
   ]
  },
  {
   "cell_type": "code",
   "execution_count": 12,
   "id": "9a81ceb0",
   "metadata": {},
   "outputs": [
    {
     "data": {
      "text/plain": [
       "mappingproxy({'__repr__': <slot wrapper '__repr__' of 'set' objects>,\n",
       "              '__hash__': None,\n",
       "              '__getattribute__': <slot wrapper '__getattribute__' of 'set' objects>,\n",
       "              '__lt__': <slot wrapper '__lt__' of 'set' objects>,\n",
       "              '__le__': <slot wrapper '__le__' of 'set' objects>,\n",
       "              '__eq__': <slot wrapper '__eq__' of 'set' objects>,\n",
       "              '__ne__': <slot wrapper '__ne__' of 'set' objects>,\n",
       "              '__gt__': <slot wrapper '__gt__' of 'set' objects>,\n",
       "              '__ge__': <slot wrapper '__ge__' of 'set' objects>,\n",
       "              '__iter__': <slot wrapper '__iter__' of 'set' objects>,\n",
       "              '__init__': <slot wrapper '__init__' of 'set' objects>,\n",
       "              '__sub__': <slot wrapper '__sub__' of 'set' objects>,\n",
       "              '__rsub__': <slot wrapper '__rsub__' of 'set' objects>,\n",
       "              '__and__': <slot wrapper '__and__' of 'set' objects>,\n",
       "              '__rand__': <slot wrapper '__rand__' of 'set' objects>,\n",
       "              '__xor__': <slot wrapper '__xor__' of 'set' objects>,\n",
       "              '__rxor__': <slot wrapper '__rxor__' of 'set' objects>,\n",
       "              '__or__': <slot wrapper '__or__' of 'set' objects>,\n",
       "              '__ror__': <slot wrapper '__ror__' of 'set' objects>,\n",
       "              '__isub__': <slot wrapper '__isub__' of 'set' objects>,\n",
       "              '__iand__': <slot wrapper '__iand__' of 'set' objects>,\n",
       "              '__ixor__': <slot wrapper '__ixor__' of 'set' objects>,\n",
       "              '__ior__': <slot wrapper '__ior__' of 'set' objects>,\n",
       "              '__len__': <slot wrapper '__len__' of 'set' objects>,\n",
       "              '__contains__': <method '__contains__' of 'set' objects>,\n",
       "              '__new__': <function set.__new__(*args, **kwargs)>,\n",
       "              'add': <method 'add' of 'set' objects>,\n",
       "              'clear': <method 'clear' of 'set' objects>,\n",
       "              'copy': <method 'copy' of 'set' objects>,\n",
       "              'discard': <method 'discard' of 'set' objects>,\n",
       "              'difference': <method 'difference' of 'set' objects>,\n",
       "              'difference_update': <method 'difference_update' of 'set' objects>,\n",
       "              'intersection': <method 'intersection' of 'set' objects>,\n",
       "              'intersection_update': <method 'intersection_update' of 'set' objects>,\n",
       "              'isdisjoint': <method 'isdisjoint' of 'set' objects>,\n",
       "              'issubset': <method 'issubset' of 'set' objects>,\n",
       "              'issuperset': <method 'issuperset' of 'set' objects>,\n",
       "              'pop': <method 'pop' of 'set' objects>,\n",
       "              '__reduce__': <method '__reduce__' of 'set' objects>,\n",
       "              'remove': <method 'remove' of 'set' objects>,\n",
       "              '__sizeof__': <method '__sizeof__' of 'set' objects>,\n",
       "              'symmetric_difference': <method 'symmetric_difference' of 'set' objects>,\n",
       "              'symmetric_difference_update': <method 'symmetric_difference_update' of 'set' objects>,\n",
       "              'union': <method 'union' of 'set' objects>,\n",
       "              'update': <method 'update' of 'set' objects>,\n",
       "              '__doc__': 'set() -> new empty set object\\nset(iterable) -> new set object\\n\\nBuild an unordered collection of unique elements.'})"
      ]
     },
     "execution_count": 12,
     "metadata": {},
     "output_type": "execute_result"
    }
   ],
   "source": [
    "set.__dict__"
   ]
  },
  {
   "cell_type": "code",
   "execution_count": 15,
   "id": "42d8ed23",
   "metadata": {},
   "outputs": [
    {
     "name": "stdout",
     "output_type": "stream",
     "text": [
      "Miau. Eu sou o gato Bilbo!\n"
     ]
    }
   ],
   "source": [
    "#Criando uma função que faz o gato falar oi\n",
    "\n",
    "def oi(obj):\n",
    "    print('Miau. Eu sou o gato ' + obj.name + '!')\n",
    "    \n",
    "class animal:\n",
    "    pass\n",
    "x = animal ()\n",
    "x.name = 'Bilbo'\n",
    "oi(x)"
   ]
  },
  {
   "cell_type": "code",
   "execution_count": 17,
   "id": "93be0144",
   "metadata": {},
   "outputs": [
    {
     "name": "stdout",
     "output_type": "stream",
     "text": [
      "prprpr\n",
      "Miau!\n"
     ]
    }
   ],
   "source": [
    "def miau(obj):\n",
    "    print('Miau!')\n",
    "    \n",
    "def ronronar(obj):\n",
    "    print('prprpr')\n",
    "    \n",
    "class animal:\n",
    "    miar = miau\n",
    "    ronronar = ronronar\n",
    "    \n",
    "x = animal()\n",
    "x.name = 'Bilbo'\n",
    "animal.ronronar(x)\n",
    "animal.miar(x)"
   ]
  }
 ],
 "metadata": {
  "kernelspec": {
   "display_name": "Python 3",
   "language": "python",
   "name": "python3"
  },
  "language_info": {
   "codemirror_mode": {
    "name": "ipython",
    "version": 3
   },
   "file_extension": ".py",
   "mimetype": "text/x-python",
   "name": "python",
   "nbconvert_exporter": "python",
   "pygments_lexer": "ipython3",
   "version": "3.8.8"
  }
 },
 "nbformat": 4,
 "nbformat_minor": 5
}
