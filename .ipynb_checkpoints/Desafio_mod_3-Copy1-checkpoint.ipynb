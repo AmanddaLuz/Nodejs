{
 "cells": [
  {
   "cell_type": "code",
   "execution_count": 1,
   "id": "09ba47e1",
   "metadata": {},
   "outputs": [],
   "source": [
    "# Função 1"
   ]
  },
  {
   "cell_type": "code",
   "execution_count": null,
   "id": "a5d27b7a",
   "metadata": {},
   "outputs": [],
   "source": []
  },
  {
   "cell_type": "code",
   "execution_count": 82,
   "id": "218f4e0b",
   "metadata": {},
   "outputs": [],
   "source": [
    "def saudacao(nome):\n",
    "    print ( ' Olá ' , nome , ' tudo bem? ' )\n"
   ]
  },
  {
   "cell_type": "code",
   "execution_count": 83,
   "id": "b62cd4d9",
   "metadata": {},
   "outputs": [
    {
     "name": "stdout",
     "output_type": "stream",
     "text": [
      " Olá  Roberto  tudo bem? \n"
     ]
    }
   ],
   "source": [
    "saudacao ('Roberto')"
   ]
  },
  {
   "cell_type": "code",
   "execution_count": 9,
   "id": "97acf756",
   "metadata": {},
   "outputs": [],
   "source": [
    "# Função 2"
   ]
  },
  {
   "cell_type": "code",
   "execution_count": 33,
   "id": "16276ecd",
   "metadata": {},
   "outputs": [],
   "source": [
    "def imc (peso, altura):\n",
    "    print(peso / altura ** 2)"
   ]
  },
  {
   "cell_type": "code",
   "execution_count": 85,
   "id": "61bda392",
   "metadata": {},
   "outputs": [
    {
     "name": "stdout",
     "output_type": "stream",
     "text": [
      "29.384756657483933\n"
     ]
    }
   ],
   "source": [
    "imc(80,1.65)"
   ]
  },
  {
   "cell_type": "code",
   "execution_count": 12,
   "id": "4ac99f9b",
   "metadata": {},
   "outputs": [],
   "source": [
    "# Função 3"
   ]
  },
  {
   "cell_type": "code",
   "execution_count": 72,
   "id": "c01c6c0e",
   "metadata": {},
   "outputs": [],
   "source": [
    "soma = lambda x, y: x + y"
   ]
  },
  {
   "cell_type": "code",
   "execution_count": null,
   "id": "917305b2",
   "metadata": {},
   "outputs": [],
   "source": [
    "# Função 4"
   ]
  },
  {
   "cell_type": "code",
   "execution_count": 69,
   "id": "e93035f5",
   "metadata": {},
   "outputs": [],
   "source": [
    "def soma(x,y):\n",
    "    print(x + y)"
   ]
  },
  {
   "cell_type": "code",
   "execution_count": 71,
   "id": "2c390b83",
   "metadata": {},
   "outputs": [
    {
     "name": "stdout",
     "output_type": "stream",
     "text": [
      "25\n"
     ]
    }
   ],
   "source": [
    "soma(10,15)"
   ]
  },
  {
   "cell_type": "code",
   "execution_count": null,
   "id": "bb68a7af",
   "metadata": {},
   "outputs": [],
   "source": [
    "# Laço de repetição 1"
   ]
  },
  {
   "cell_type": "code",
   "execution_count": 4,
   "id": "9bd3965e",
   "metadata": {},
   "outputs": [
    {
     "name": "stdout",
     "output_type": "stream",
     "text": [
      "0\n",
      "1\n",
      "2\n",
      "3\n",
      "4\n",
      "5\n",
      "6\n",
      "7\n",
      "8\n",
      "9\n",
      "10\n",
      "11\n",
      "12\n",
      "13\n",
      "14\n",
      "15\n",
      "16\n",
      "17\n",
      "18\n",
      "19\n"
     ]
    }
   ],
   "source": [
    "num = 0\n",
    "while num < 20:\n",
    "    print (num)\n",
    "    num += 1"
   ]
  },
  {
   "cell_type": "code",
   "execution_count": 19,
   "id": "20cafcd2",
   "metadata": {},
   "outputs": [],
   "source": [
    "# Laço de repetição 2"
   ]
  },
  {
   "cell_type": "code",
   "execution_count": 35,
   "id": "df940107",
   "metadata": {},
   "outputs": [
    {
     "name": "stdout",
     "output_type": "stream",
     "text": [
      "0\n",
      "2\n",
      "4\n",
      "6\n",
      "8\n",
      "10\n"
     ]
    }
   ],
   "source": [
    "for i in range(0, 11, 2):\n",
    "    print (i)"
   ]
  },
  {
   "cell_type": "code",
   "execution_count": 20,
   "id": "30edd887",
   "metadata": {},
   "outputs": [],
   "source": [
    "# Laço de repetição 3"
   ]
  },
  {
   "cell_type": "code",
   "execution_count": 53,
   "id": "c85d2652",
   "metadata": {},
   "outputs": [
    {
     "name": "stdout",
     "output_type": "stream",
     "text": [
      "1\n",
      "2\n",
      "3\n"
     ]
    }
   ],
   "source": [
    "numeros = [1,2,3,4,5,6,7,8,9,10]\n",
    "\n",
    "for x in numeros:\n",
    "    print (x)\n",
    "    if x == 3:\n",
    "        break"
   ]
  },
  {
   "cell_type": "code",
   "execution_count": 24,
   "id": "9e05e131",
   "metadata": {},
   "outputs": [],
   "source": [
    "# Laço de repetição 4"
   ]
  },
  {
   "cell_type": "code",
   "execution_count": 34,
   "id": "5de229f9",
   "metadata": {},
   "outputs": [],
   "source": [
    "nume = 0\n",
    "while nume < 10:\n",
    "    nume += 1\n",
    "    if nume == 7:\n",
    "        continue\n",
    "  \n",
    "        print(nume)"
   ]
  },
  {
   "cell_type": "code",
   "execution_count": 18,
   "id": "ef579170",
   "metadata": {},
   "outputs": [
    {
     "name": "stdout",
     "output_type": "stream",
     "text": [
      "10\n"
     ]
    }
   ],
   "source": [
    "print(nume)"
   ]
  }
 ],
 "metadata": {
  "kernelspec": {
   "display_name": "Python 3",
   "language": "python",
   "name": "python3"
  },
  "language_info": {
   "codemirror_mode": {
    "name": "ipython",
    "version": 3
   },
   "file_extension": ".py",
   "mimetype": "text/x-python",
   "name": "python",
   "nbconvert_exporter": "python",
   "pygments_lexer": "ipython3",
   "version": "3.8.8"
  }
 },
 "nbformat": 4,
 "nbformat_minor": 5
}
