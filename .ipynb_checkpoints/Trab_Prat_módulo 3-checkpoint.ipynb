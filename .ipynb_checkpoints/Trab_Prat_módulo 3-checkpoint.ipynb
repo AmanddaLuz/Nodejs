{
 "cells": [
  {
   "cell_type": "code",
   "execution_count": 2,
   "id": "58d9c43c",
   "metadata": {},
   "outputs": [],
   "source": [
    "name = 'Roberto'\n",
    "idade = 35\n",
    "altura = 1.88\n",
    "cidades_visitadas = ['Paris', 'Barcelona ' , ' Chicago ' , ' Berlim ' ]\n",
    "paises_visitados = (' França ' , ' Espanha ' , ' Estados Unidos ' , ' Alemanha ' )\n",
    "notas_cidades = {' Paris ' : 5 , 'Barcelona' :4, 'Chicago ' : 5 ,\n",
    "'Berlim' :3}\n",
    "dinheiro_gasto = {1.000}\n",
    "dinheiro_guardado = 'RS 500,00'\n",
    "proximas_viagens = [' Moscou ' , ' Londres ' , ' Lisboa']"
   ]
  }
 ],
 "metadata": {
  "kernelspec": {
   "display_name": "Python 3",
   "language": "python",
   "name": "python3"
  },
  "language_info": {
   "codemirror_mode": {
    "name": "ipython",
    "version": 3
   },
   "file_extension": ".py",
   "mimetype": "text/x-python",
   "name": "python",
   "nbconvert_exporter": "python",
   "pygments_lexer": "ipython3",
   "version": "3.8.8"
  }
 },
 "nbformat": 4,
 "nbformat_minor": 5
}
