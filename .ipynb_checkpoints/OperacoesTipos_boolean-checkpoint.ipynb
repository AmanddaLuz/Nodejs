{
 "cells": [
  {
   "cell_type": "code",
   "execution_count": 1,
   "id": "34b2780f",
   "metadata": {},
   "outputs": [
    {
     "data": {
      "text/plain": [
       "True"
      ]
     },
     "execution_count": 1,
     "metadata": {},
     "output_type": "execute_result"
    }
   ],
   "source": [
    "5 == 5"
   ]
  },
  {
   "cell_type": "code",
   "execution_count": 2,
   "id": "fcecebec",
   "metadata": {},
   "outputs": [
    {
     "data": {
      "text/plain": [
       "False"
      ]
     },
     "execution_count": 2,
     "metadata": {},
     "output_type": "execute_result"
    }
   ],
   "source": [
    "5 == 4"
   ]
  },
  {
   "cell_type": "code",
   "execution_count": 3,
   "id": "476c44f8",
   "metadata": {},
   "outputs": [
    {
     "data": {
      "text/plain": [
       "True"
      ]
     },
     "execution_count": 3,
     "metadata": {},
     "output_type": "execute_result"
    }
   ],
   "source": [
    "15 > 10"
   ]
  },
  {
   "cell_type": "code",
   "execution_count": 4,
   "id": "429e7f42",
   "metadata": {},
   "outputs": [
    {
     "data": {
      "text/plain": [
       "False"
      ]
     },
     "execution_count": 4,
     "metadata": {},
     "output_type": "execute_result"
    }
   ],
   "source": [
    "3 > 25"
   ]
  },
  {
   "cell_type": "code",
   "execution_count": 6,
   "id": "f75a4700",
   "metadata": {},
   "outputs": [
    {
     "data": {
      "text/plain": [
       "True"
      ]
     },
     "execution_count": 6,
     "metadata": {},
     "output_type": "execute_result"
    }
   ],
   "source": [
    "'pyton' == 'pyton'"
   ]
  },
  {
   "cell_type": "code",
   "execution_count": 7,
   "id": "5817f140",
   "metadata": {},
   "outputs": [
    {
     "data": {
      "text/plain": [
       "True"
      ]
     },
     "execution_count": 7,
     "metadata": {},
     "output_type": "execute_result"
    }
   ],
   "source": [
    "'pyton' > 'java'"
   ]
  },
  {
   "cell_type": "code",
   "execution_count": 8,
   "id": "642aded3",
   "metadata": {},
   "outputs": [
    {
     "data": {
      "text/plain": [
       "False"
      ]
     },
     "execution_count": 8,
     "metadata": {},
     "output_type": "execute_result"
    }
   ],
   "source": [
    "'pyton' == 'java'"
   ]
  },
  {
   "cell_type": "code",
   "execution_count": 9,
   "id": "fd60c108",
   "metadata": {},
   "outputs": [
    {
     "data": {
      "text/plain": [
       "False"
      ]
     },
     "execution_count": 9,
     "metadata": {},
     "output_type": "execute_result"
    }
   ],
   "source": [
    "'pyton' == 'nohtyp'"
   ]
  },
  {
   "cell_type": "code",
   "execution_count": 10,
   "id": "77507f55",
   "metadata": {},
   "outputs": [
    {
     "data": {
      "text/plain": [
       "False"
      ]
     },
     "execution_count": 10,
     "metadata": {},
     "output_type": "execute_result"
    }
   ],
   "source": [
    "'pão' == 'baú'"
   ]
  },
  {
   "cell_type": "code",
   "execution_count": 11,
   "id": "114abb8a",
   "metadata": {},
   "outputs": [],
   "source": [
    "# Tabela ASCII"
   ]
  },
  {
   "cell_type": "code",
   "execution_count": 12,
   "id": "dcd87318",
   "metadata": {},
   "outputs": [],
   "source": [
    "nome = 'pão'\n",
    "nome_1 = 'baú'"
   ]
  },
  {
   "cell_type": "code",
   "execution_count": 13,
   "id": "80069d65",
   "metadata": {},
   "outputs": [
    {
     "name": "stdout",
     "output_type": "stream",
     "text": [
      "b'p\\xc3\\xa3o'\n",
      "b'ba\\xc3\\xba'\n"
     ]
    }
   ],
   "source": [
    "print(nome.encode())\n",
    "print(nome_1.encode())"
   ]
  },
  {
   "cell_type": "code",
   "execution_count": 14,
   "id": "27d308ce",
   "metadata": {},
   "outputs": [],
   "source": [
    "nome_2 = 'pyton'\n",
    "nome_3 = 'java'"
   ]
  },
  {
   "cell_type": "code",
   "execution_count": 15,
   "id": "8be80778",
   "metadata": {},
   "outputs": [
    {
     "name": "stdout",
     "output_type": "stream",
     "text": [
      "b'pyton'\n",
      "b'java'\n"
     ]
    }
   ],
   "source": [
    "print(nome_2.encode())\n",
    "print(nome_3.encode())"
   ]
  },
  {
   "cell_type": "code",
   "execution_count": 16,
   "id": "dfdb6f86",
   "metadata": {},
   "outputs": [],
   "source": [
    "num_end = 500\n",
    "\n",
    "num_end_2 = '200'"
   ]
  },
  {
   "cell_type": "code",
   "execution_count": 17,
   "id": "358c202c",
   "metadata": {},
   "outputs": [],
   "source": [
    "num_end_x = str(num_end)"
   ]
  },
  {
   "cell_type": "code",
   "execution_count": 18,
   "id": "62b879a9",
   "metadata": {},
   "outputs": [
    {
     "name": "stdout",
     "output_type": "stream",
     "text": [
      "<class 'str'>\n"
     ]
    }
   ],
   "source": [
    "print(type(num_end_x))"
   ]
  }
 ],
 "metadata": {
  "kernelspec": {
   "display_name": "Python 3",
   "language": "python",
   "name": "python3"
  },
  "language_info": {
   "codemirror_mode": {
    "name": "ipython",
    "version": 3
   },
   "file_extension": ".py",
   "mimetype": "text/x-python",
   "name": "python",
   "nbconvert_exporter": "python",
   "pygments_lexer": "ipython3",
   "version": "3.8.8"
  }
 },
 "nbformat": 4,
 "nbformat_minor": 5
}
