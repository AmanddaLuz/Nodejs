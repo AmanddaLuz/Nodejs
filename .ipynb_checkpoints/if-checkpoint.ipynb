{
 "cells": [
  {
   "cell_type": "code",
   "execution_count": 1,
   "id": "838e3f07",
   "metadata": {},
   "outputs": [],
   "source": [
    "a = 50\n",
    "b = 100\n",
    "c = 50"
   ]
  },
  {
   "cell_type": "code",
   "execution_count": 4,
   "id": "97750061",
   "metadata": {},
   "outputs": [
    {
     "name": "stdout",
     "output_type": "stream",
     "text": [
      "50\n"
     ]
    }
   ],
   "source": [
    "print (c)"
   ]
  },
  {
   "cell_type": "code",
   "execution_count": 5,
   "id": "be7cb7ed",
   "metadata": {},
   "outputs": [
    {
     "name": "stdout",
     "output_type": "stream",
     "text": [
      "A é igual a C\n"
     ]
    }
   ],
   "source": [
    "if a == c:\n",
    "    print ('A é igual a C')"
   ]
  },
  {
   "cell_type": "code",
   "execution_count": 6,
   "id": "d264ed71",
   "metadata": {},
   "outputs": [
    {
     "name": "stdout",
     "output_type": "stream",
     "text": [
      "A é diferente de B\n"
     ]
    }
   ],
   "source": [
    "if a != b:\n",
    "    print ('A é diferente de B')"
   ]
  },
  {
   "cell_type": "code",
   "execution_count": 7,
   "id": "d3fb87a4",
   "metadata": {},
   "outputs": [
    {
     "name": "stdout",
     "output_type": "stream",
     "text": [
      "A é menor do que B\n"
     ]
    }
   ],
   "source": [
    "if a < b:\n",
    "    print ('A é menor do que B')"
   ]
  },
  {
   "cell_type": "code",
   "execution_count": 12,
   "id": "01175f97",
   "metadata": {},
   "outputs": [
    {
     "name": "stdout",
     "output_type": "stream",
     "text": [
      "A é menor ou igual a C\n"
     ]
    }
   ],
   "source": [
    "if a <= c:\n",
    "    print ('A é menor ou igual a C')"
   ]
  },
  {
   "cell_type": "code",
   "execution_count": 11,
   "id": "1dd29372",
   "metadata": {},
   "outputs": [
    {
     "name": "stdout",
     "output_type": "stream",
     "text": [
      "B é maior do que C\n"
     ]
    }
   ],
   "source": [
    "if b > c:\n",
    "    print ('B é maior do que C')"
   ]
  },
  {
   "cell_type": "code",
   "execution_count": null,
   "id": "30c1d145",
   "metadata": {},
   "outputs": [],
   "source": []
  }
 ],
 "metadata": {
  "kernelspec": {
   "display_name": "Python 3",
   "language": "python",
   "name": "python3"
  },
  "language_info": {
   "codemirror_mode": {
    "name": "ipython",
    "version": 3
   },
   "file_extension": ".py",
   "mimetype": "text/x-python",
   "name": "python",
   "nbconvert_exporter": "python",
   "pygments_lexer": "ipython3",
   "version": "3.8.8"
  }
 },
 "nbformat": 4,
 "nbformat_minor": 5
}
