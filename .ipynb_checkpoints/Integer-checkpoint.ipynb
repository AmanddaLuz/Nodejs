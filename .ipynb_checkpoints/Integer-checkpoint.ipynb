{
 "cells": [
  {
   "cell_type": "code",
   "execution_count": 4,
   "id": "9cd52506",
   "metadata": {},
   "outputs": [],
   "source": [
    "a = 50"
   ]
  },
  {
   "cell_type": "code",
   "execution_count": 2,
   "id": "e1f6b284",
   "metadata": {},
   "outputs": [
    {
     "name": "stdout",
     "output_type": "stream",
     "text": [
      "50\n"
     ]
    }
   ],
   "source": [
    "print (a)"
   ]
  },
  {
   "cell_type": "code",
   "execution_count": 6,
   "id": "a402691b",
   "metadata": {},
   "outputs": [],
   "source": [
    "numero_alunos = int(50)"
   ]
  },
  {
   "cell_type": "code",
   "execution_count": 7,
   "id": "9e1d9f43",
   "metadata": {},
   "outputs": [
    {
     "name": "stdout",
     "output_type": "stream",
     "text": [
      "50\n"
     ]
    }
   ],
   "source": [
    "print(numero_alunos)"
   ]
  },
  {
   "cell_type": "code",
   "execution_count": 8,
   "id": "e39bba6d",
   "metadata": {},
   "outputs": [
    {
     "name": "stdout",
     "output_type": "stream",
     "text": [
      "<class 'int'>\n"
     ]
    }
   ],
   "source": [
    "print(type(a))"
   ]
  },
  {
   "cell_type": "code",
   "execution_count": 10,
   "id": "9a5b556a",
   "metadata": {},
   "outputs": [],
   "source": [
    "divisao = 50 / 2"
   ]
  },
  {
   "cell_type": "code",
   "execution_count": 11,
   "id": "bc50ee09",
   "metadata": {},
   "outputs": [
    {
     "name": "stdout",
     "output_type": "stream",
     "text": [
      "25.0\n"
     ]
    }
   ],
   "source": [
    "print (divisao)"
   ]
  },
  {
   "cell_type": "code",
   "execution_count": 12,
   "id": "b7558822",
   "metadata": {},
   "outputs": [
    {
     "name": "stdout",
     "output_type": "stream",
     "text": [
      "<class 'float'>\n"
     ]
    }
   ],
   "source": [
    "print (type(divisao))"
   ]
  },
  {
   "cell_type": "code",
   "execution_count": 13,
   "id": "dccdd6a0",
   "metadata": {},
   "outputs": [],
   "source": [
    "divisao = int(50 / 2)"
   ]
  },
  {
   "cell_type": "code",
   "execution_count": 14,
   "id": "7124d83a",
   "metadata": {},
   "outputs": [
    {
     "name": "stdout",
     "output_type": "stream",
     "text": [
      "25\n"
     ]
    }
   ],
   "source": [
    "print(divisao)"
   ]
  },
  {
   "cell_type": "code",
   "execution_count": 15,
   "id": "8af33f8b",
   "metadata": {},
   "outputs": [
    {
     "name": "stdout",
     "output_type": "stream",
     "text": [
      "<class 'int'>\n"
     ]
    }
   ],
   "source": [
    "print(type(divisao))"
   ]
  }
 ],
 "metadata": {
  "kernelspec": {
   "display_name": "Python 3",
   "language": "python",
   "name": "python3"
  },
  "language_info": {
   "codemirror_mode": {
    "name": "ipython",
    "version": 3
   },
   "file_extension": ".py",
   "mimetype": "text/x-python",
   "name": "python",
   "nbconvert_exporter": "python",
   "pygments_lexer": "ipython3",
   "version": "3.8.8"
  }
 },
 "nbformat": 4,
 "nbformat_minor": 5
}
