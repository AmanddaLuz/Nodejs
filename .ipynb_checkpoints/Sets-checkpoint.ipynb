{
 "cells": [
  {
   "cell_type": "code",
   "execution_count": 7,
   "id": "da6349a0",
   "metadata": {},
   "outputs": [],
   "source": [
    "# forma mais rígida - não aceita duplicado entre outras situações\n",
    "# os sets não são ordenados."
   ]
  },
  {
   "cell_type": "code",
   "execution_count": 2,
   "id": "4df2a07f",
   "metadata": {},
   "outputs": [],
   "source": [
    "cidade = {'Belo Horizonte', 'Manaus', 'Fortaleza', 'Natal'}"
   ]
  },
  {
   "cell_type": "code",
   "execution_count": 3,
   "id": "03894e02",
   "metadata": {},
   "outputs": [
    {
     "name": "stdout",
     "output_type": "stream",
     "text": [
      "<class 'set'>\n"
     ]
    }
   ],
   "source": [
    "print(type(cidade))"
   ]
  },
  {
   "cell_type": "code",
   "execution_count": 4,
   "id": "765ad849",
   "metadata": {},
   "outputs": [
    {
     "name": "stdout",
     "output_type": "stream",
     "text": [
      "{'Belo Horizonte', 'Natal', 'Manaus', 'Fortaleza'}\n"
     ]
    }
   ],
   "source": [
    "print(cidade)"
   ]
  },
  {
   "cell_type": "code",
   "execution_count": 5,
   "id": "6fc6b448",
   "metadata": {},
   "outputs": [
    {
     "name": "stdout",
     "output_type": "stream",
     "text": [
      "True\n"
     ]
    }
   ],
   "source": [
    "print('Manaus' in cidade)"
   ]
  },
  {
   "cell_type": "code",
   "execution_count": 6,
   "id": "1ba15d6c",
   "metadata": {},
   "outputs": [
    {
     "name": "stdout",
     "output_type": "stream",
     "text": [
      "False\n"
     ]
    }
   ],
   "source": [
    "print('Recife' in cidade)"
   ]
  },
  {
   "cell_type": "code",
   "execution_count": 9,
   "id": "c8a7573e",
   "metadata": {},
   "outputs": [],
   "source": [
    "cidade.add('Porto Alegre')"
   ]
  },
  {
   "cell_type": "code",
   "execution_count": 10,
   "id": "e7dfe000",
   "metadata": {},
   "outputs": [
    {
     "name": "stdout",
     "output_type": "stream",
     "text": [
      "{'Belo Horizonte', 'Natal', 'Manaus', 'Fortaleza', 'Porto Alegre'}\n"
     ]
    }
   ],
   "source": [
    "print(cidade)"
   ]
  },
  {
   "cell_type": "code",
   "execution_count": 11,
   "id": "065bdd89",
   "metadata": {},
   "outputs": [],
   "source": [
    "cidades_2 = {'Recife', 'Salvador', 'Campo Grande'}"
   ]
  },
  {
   "cell_type": "code",
   "execution_count": 12,
   "id": "5dc1a745",
   "metadata": {},
   "outputs": [],
   "source": [
    "cidade.update(cidades_2)"
   ]
  },
  {
   "cell_type": "code",
   "execution_count": 13,
   "id": "989c4d77",
   "metadata": {},
   "outputs": [
    {
     "name": "stdout",
     "output_type": "stream",
     "text": [
      "{'Belo Horizonte', 'Natal', 'Manaus', 'Recife', 'Salvador', 'Campo Grande', 'Fortaleza', 'Porto Alegre'}\n"
     ]
    }
   ],
   "source": [
    "print(cidade)"
   ]
  }
 ],
 "metadata": {
  "kernelspec": {
   "display_name": "Python 3",
   "language": "python",
   "name": "python3"
  },
  "language_info": {
   "codemirror_mode": {
    "name": "ipython",
    "version": 3
   },
   "file_extension": ".py",
   "mimetype": "text/x-python",
   "name": "python",
   "nbconvert_exporter": "python",
   "pygments_lexer": "ipython3",
   "version": "3.8.8"
  }
 },
 "nbformat": 4,
 "nbformat_minor": 5
}
