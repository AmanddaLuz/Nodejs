{
 "cells": [
  {
   "cell_type": "code",
   "execution_count": 14,
   "id": "7a798fe2",
   "metadata": {},
   "outputs": [],
   "source": [
    "frutas = ('banana', 'laranja', 'abacate', 'melancia', 'caju', 'abacaxi')\n",
    "saldo_alunos = (500.00, 1200.00, 1000.00, 600.00, 50000.00)\n",
    "num_pacientes = (25, 36, 50, 45, 22, 33, 89)"
   ]
  },
  {
   "cell_type": "code",
   "execution_count": 15,
   "id": "0931a2b9",
   "metadata": {},
   "outputs": [
    {
     "name": "stdout",
     "output_type": "stream",
     "text": [
      "laranja\n"
     ]
    }
   ],
   "source": [
    "print(frutas[1])"
   ]
  },
  {
   "cell_type": "code",
   "execution_count": 16,
   "id": "c106d14b",
   "metadata": {},
   "outputs": [
    {
     "name": "stdout",
     "output_type": "stream",
     "text": [
      "('laranja', 'abacate', 'melancia')\n"
     ]
    }
   ],
   "source": [
    "print(frutas[1:4])"
   ]
  },
  {
   "cell_type": "code",
   "execution_count": 17,
   "id": "c5895282",
   "metadata": {},
   "outputs": [
    {
     "name": "stdout",
     "output_type": "stream",
     "text": [
      "('banana', 'laranja', 'abacate', 'melancia')\n"
     ]
    }
   ],
   "source": [
    "print(frutas[0:4])"
   ]
  },
  {
   "cell_type": "code",
   "execution_count": 18,
   "id": "6da175c0",
   "metadata": {},
   "outputs": [],
   "source": [
    "saldo_alunos_dup = (500.00, 1200.00, 1000.00,500.00, 1200.00, 1000.00, 600.00, 50000.00)"
   ]
  },
  {
   "cell_type": "code",
   "execution_count": 19,
   "id": "f81ddeac",
   "metadata": {},
   "outputs": [
    {
     "name": "stdout",
     "output_type": "stream",
     "text": [
      "(500.0, 1200.0, 1000.0, 500.0, 1200.0, 1000.0, 600.0, 50000.0)\n"
     ]
    }
   ],
   "source": [
    "print(saldo_alunos_dup)"
   ]
  },
  {
   "cell_type": "code",
   "execution_count": 20,
   "id": "ff9176a6",
   "metadata": {},
   "outputs": [],
   "source": [
    "tuple_junto = frutas + num_pacientes"
   ]
  },
  {
   "cell_type": "code",
   "execution_count": 21,
   "id": "c1030c21",
   "metadata": {},
   "outputs": [
    {
     "name": "stdout",
     "output_type": "stream",
     "text": [
      "('banana', 'laranja', 'abacate', 'melancia', 'caju', 'abacaxi', 25, 36, 50, 45, 22, 33, 89)\n"
     ]
    }
   ],
   "source": [
    "print(tuple_junto)"
   ]
  },
  {
   "cell_type": "code",
   "execution_count": 22,
   "id": "eb04b8bd",
   "metadata": {},
   "outputs": [
    {
     "name": "stdout",
     "output_type": "stream",
     "text": [
      "<class 'tuple'>\n"
     ]
    }
   ],
   "source": [
    "print(type(tuple_junto))"
   ]
  },
  {
   "cell_type": "code",
   "execution_count": 26,
   "id": "cfe21bec",
   "metadata": {},
   "outputs": [],
   "source": [
    "num_pacientes_x = (25, 36, 50, 45, 22, 33, 89,25, 36, 50, 45, 22, 33, 89,\n",
    "                25, 36, 50, 45, 22, 33, 89, 25, 36, 50, 45, 22, 33, 89)"
   ]
  },
  {
   "cell_type": "code",
   "execution_count": 27,
   "id": "b3840aeb",
   "metadata": {},
   "outputs": [
    {
     "data": {
      "text/plain": [
       "4"
      ]
     },
     "execution_count": 27,
     "metadata": {},
     "output_type": "execute_result"
    }
   ],
   "source": [
    "num_pacientes_x.count(45)"
   ]
  }
 ],
 "metadata": {
  "kernelspec": {
   "display_name": "Python 3",
   "language": "python",
   "name": "python3"
  },
  "language_info": {
   "codemirror_mode": {
    "name": "ipython",
    "version": 3
   },
   "file_extension": ".py",
   "mimetype": "text/x-python",
   "name": "python",
   "nbconvert_exporter": "python",
   "pygments_lexer": "ipython3",
   "version": "3.8.8"
  }
 },
 "nbformat": 4,
 "nbformat_minor": 5
}
