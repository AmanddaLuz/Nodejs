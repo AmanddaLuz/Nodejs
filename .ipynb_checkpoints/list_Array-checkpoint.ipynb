{
 "cells": [
  {
   "cell_type": "code",
   "execution_count": 1,
   "id": "4a051945",
   "metadata": {},
   "outputs": [],
   "source": [
    "frutas = ['banana', 'laranja', 'abacate', 'melancia', 'caju', 'abacaxi']\n",
    "saldo_alunos = [500.00, 1200.00, 1000.00, 600.00, 50000.00]\n",
    "num_pacientes = [25, 36, 50, 45, 22, 33, 89]"
   ]
  },
  {
   "cell_type": "code",
   "execution_count": 2,
   "id": "30b47386",
   "metadata": {},
   "outputs": [
    {
     "name": "stdout",
     "output_type": "stream",
     "text": [
      "['banana', 'laranja', 'abacate', 'melancia', 'caju', 'abacaxi']\n"
     ]
    }
   ],
   "source": [
    "print(frutas)"
   ]
  },
  {
   "cell_type": "code",
   "execution_count": 3,
   "id": "109cd2b3",
   "metadata": {},
   "outputs": [
    {
     "name": "stdout",
     "output_type": "stream",
     "text": [
      "[500.0, 1200.0, 1000.0, 600.0, 50000.0]\n"
     ]
    }
   ],
   "source": [
    "print(saldo_alunos)"
   ]
  },
  {
   "cell_type": "code",
   "execution_count": 4,
   "id": "063782c5",
   "metadata": {},
   "outputs": [
    {
     "name": "stdout",
     "output_type": "stream",
     "text": [
      "[25, 36, 50, 45, 22, 33, 89]\n"
     ]
    }
   ],
   "source": [
    "print(num_pacientes)"
   ]
  },
  {
   "cell_type": "code",
   "execution_count": 5,
   "id": "2cefdf1b",
   "metadata": {},
   "outputs": [],
   "source": [
    "frutas_dup = ['banana', 'laranja', 'abacate','banana', 'laranja', 'abacate', 'melancia', 'caju', 'abacaxi']"
   ]
  },
  {
   "cell_type": "code",
   "execution_count": 6,
   "id": "5c977529",
   "metadata": {},
   "outputs": [
    {
     "name": "stdout",
     "output_type": "stream",
     "text": [
      "['banana', 'laranja', 'abacate', 'banana', 'laranja', 'abacate', 'melancia', 'caju', 'abacaxi']\n"
     ]
    }
   ],
   "source": [
    "print(frutas_dup)"
   ]
  },
  {
   "cell_type": "code",
   "execution_count": 7,
   "id": "0b41ecf3",
   "metadata": {},
   "outputs": [
    {
     "data": {
      "text/plain": [
       "5"
      ]
     },
     "execution_count": 7,
     "metadata": {},
     "output_type": "execute_result"
    }
   ],
   "source": [
    "len(saldo_alunos)"
   ]
  },
  {
   "cell_type": "code",
   "execution_count": 8,
   "id": "1e8b1dc0",
   "metadata": {},
   "outputs": [
    {
     "data": {
      "text/plain": [
       "7"
      ]
     },
     "execution_count": 8,
     "metadata": {},
     "output_type": "execute_result"
    }
   ],
   "source": [
    "len(num_pacientes)"
   ]
  },
  {
   "cell_type": "code",
   "execution_count": 9,
   "id": "5f557587",
   "metadata": {},
   "outputs": [],
   "source": [
    "variados = [10, 2.5, 'Python']"
   ]
  },
  {
   "cell_type": "code",
   "execution_count": 10,
   "id": "4dd66455",
   "metadata": {},
   "outputs": [
    {
     "name": "stdout",
     "output_type": "stream",
     "text": [
      "[10, 2.5, 'Python']\n"
     ]
    }
   ],
   "source": [
    "print(variados)"
   ]
  },
  {
   "cell_type": "code",
   "execution_count": 11,
   "id": "b685c863",
   "metadata": {},
   "outputs": [
    {
     "name": "stdout",
     "output_type": "stream",
     "text": [
      "abacate\n"
     ]
    }
   ],
   "source": [
    "print(frutas[2])"
   ]
  },
  {
   "cell_type": "code",
   "execution_count": 12,
   "id": "9433e20f",
   "metadata": {},
   "outputs": [
    {
     "name": "stdout",
     "output_type": "stream",
     "text": [
      "abacate\n",
      "abacate\n"
     ]
    }
   ],
   "source": [
    "print(frutas_dup[2])\n",
    "print(frutas[2])"
   ]
  },
  {
   "cell_type": "code",
   "execution_count": 13,
   "id": "ffd94556",
   "metadata": {},
   "outputs": [],
   "source": [
    "frutas.append('morango')"
   ]
  },
  {
   "cell_type": "code",
   "execution_count": 14,
   "id": "1c8fad1f",
   "metadata": {},
   "outputs": [
    {
     "name": "stdout",
     "output_type": "stream",
     "text": [
      "['banana', 'laranja', 'abacate', 'melancia', 'caju', 'abacaxi', 'morango']\n"
     ]
    }
   ],
   "source": [
    "print(frutas)"
   ]
  },
  {
   "cell_type": "code",
   "execution_count": 15,
   "id": "cb767da3",
   "metadata": {},
   "outputs": [],
   "source": [
    "saldo_alunos.extend(num_pacientes)"
   ]
  },
  {
   "cell_type": "code",
   "execution_count": 16,
   "id": "05168db1",
   "metadata": {},
   "outputs": [
    {
     "name": "stdout",
     "output_type": "stream",
     "text": [
      "[500.0, 1200.0, 1000.0, 600.0, 50000.0, 25, 36, 50, 45, 22, 33, 89]\n"
     ]
    }
   ],
   "source": [
    "print(saldo_alunos)"
   ]
  }
 ],
 "metadata": {
  "kernelspec": {
   "display_name": "Python 3",
   "language": "python",
   "name": "python3"
  },
  "language_info": {
   "codemirror_mode": {
    "name": "ipython",
    "version": 3
   },
   "file_extension": ".py",
   "mimetype": "text/x-python",
   "name": "python",
   "nbconvert_exporter": "python",
   "pygments_lexer": "ipython3",
   "version": "3.8.8"
  }
 },
 "nbformat": 4,
 "nbformat_minor": 5
}
