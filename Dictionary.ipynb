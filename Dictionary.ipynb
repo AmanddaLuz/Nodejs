{
 "cells": [
  {
   "cell_type": "code",
   "execution_count": 1,
   "id": "99aca921",
   "metadata": {},
   "outputs": [],
   "source": [
    "cod_estado = {\n",
    "    21 : 'Maranhão',\n",
    "    22 : 'Piauí',\n",
    "    23 : 'Ceará',\n",
    "    24 : 'Rio Grande do Norte',\n",
    "    25 : 'Paraíba',\n",
    "    26 : 'Pernambuco',\n",
    "    27 : 'Alagoas',\n",
    "    28 : 'Sergipe',\n",
    "    29 : 'Bahia'\n",
    "}\n"
   ]
  },
  {
   "cell_type": "code",
   "execution_count": 2,
   "id": "93571f7d",
   "metadata": {},
   "outputs": [
    {
     "name": "stdout",
     "output_type": "stream",
     "text": [
      "<class 'dict'>\n"
     ]
    }
   ],
   "source": [
    "print(type(cod_estado))"
   ]
  },
  {
   "cell_type": "code",
   "execution_count": 4,
   "id": "81592632",
   "metadata": {},
   "outputs": [],
   "source": [
    "# A partir do Python 3.7 os dados são ordenados, python anteriores \n",
    "# não são, além de não aceitar duplicados."
   ]
  },
  {
   "cell_type": "code",
   "execution_count": 3,
   "id": "86985ffb",
   "metadata": {},
   "outputs": [
    {
     "name": "stdout",
     "output_type": "stream",
     "text": [
      "{21: 'Maranhão', 22: 'Piauí', 23: 'Ceará', 24: 'Rio Grande do Norte', 25: 'Paraíba', 26: 'Pernambuco', 27: 'Alagoas', 28: 'Sergipe', 29: 'Bahia'}\n"
     ]
    }
   ],
   "source": [
    "print(cod_estado)"
   ]
  },
  {
   "cell_type": "code",
   "execution_count": 5,
   "id": "60016375",
   "metadata": {},
   "outputs": [
    {
     "data": {
      "text/plain": [
       "'Bahia'"
      ]
     },
     "execution_count": 5,
     "metadata": {},
     "output_type": "execute_result"
    }
   ],
   "source": [
    "cod_estado.get(29)"
   ]
  },
  {
   "cell_type": "code",
   "execution_count": 6,
   "id": "2128c19a",
   "metadata": {},
   "outputs": [
    {
     "data": {
      "text/plain": [
       "dict_keys([21, 22, 23, 24, 25, 26, 27, 28, 29])"
      ]
     },
     "execution_count": 6,
     "metadata": {},
     "output_type": "execute_result"
    }
   ],
   "source": [
    "cod_estado.keys()"
   ]
  },
  {
   "cell_type": "code",
   "execution_count": 8,
   "id": "276454e8",
   "metadata": {},
   "outputs": [],
   "source": [
    "cod_estado[30] = 'Estado Vira - lata Caramelo'"
   ]
  },
  {
   "cell_type": "code",
   "execution_count": 9,
   "id": "9661fc99",
   "metadata": {},
   "outputs": [
    {
     "name": "stdout",
     "output_type": "stream",
     "text": [
      "{21: 'Maranhão', 22: 'Piauí', 23: 'Ceará', 24: 'Rio Grande do Norte', 25: 'Paraíba', 26: 'Pernambuco', 27: 'Alagoas', 28: 'Sergipe', 29: 'Bahia', 30: 'Estado Vira - lata Caramelo'}\n"
     ]
    }
   ],
   "source": [
    "print(cod_estado)"
   ]
  }
 ],
 "metadata": {
  "kernelspec": {
   "display_name": "Python 3",
   "language": "python",
   "name": "python3"
  },
  "language_info": {
   "codemirror_mode": {
    "name": "ipython",
    "version": 3
   },
   "file_extension": ".py",
   "mimetype": "text/x-python",
   "name": "python",
   "nbconvert_exporter": "python",
   "pygments_lexer": "ipython3",
   "version": "3.8.8"
  }
 },
 "nbformat": 4,
 "nbformat_minor": 5
}
